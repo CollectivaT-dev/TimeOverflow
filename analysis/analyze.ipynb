{
 "cells": [
  {
   "cell_type": "code",
   "execution_count": null,
   "metadata": {},
   "outputs": [],
   "source": [
    "import matplotlib.pyplot as plt\n",
    "import pandas as pd"
   ]
  },
  {
   "cell_type": "markdown",
   "metadata": {},
   "source": [
    "### Loading data from pickle file"
   ]
  },
  {
   "cell_type": "code",
   "execution_count": null,
   "metadata": {},
   "outputs": [],
   "source": [
    "df_out = pd.read_pickle('../results/organizations_profiles.bin')"
   ]
  },
  {
   "cell_type": "markdown",
   "metadata": {},
   "source": [
    "### Pre analysis filters\n",
    "\n",
    "* Filter out banks without any transfers\n",
    "* Filter out inactive banks"
   ]
  },
  {
   "cell_type": "code",
   "execution_count": null,
   "metadata": {},
   "outputs": [],
   "source": [
    "df_functional = df_out[(df_out.n_transf_tot > 0.0)]\n",
    "df_active = df_functional[(df_functional.pc_active > 0.0)]"
   ]
  },
  {
   "cell_type": "code",
   "execution_count": null,
   "metadata": {},
   "outputs": [],
   "source": [
    "def plot_histograms(df):\n",
    "    variables_histogram = ['n_members',\n",
    "                       'n_active_members',\n",
    "                       'avg_delay',\n",
    "                       'n_transf_tot',\n",
    "                       'amount_tot',\n",
    "                       'ntransf_per_member',\n",
    "                       'amount_per_member',\n",
    "                       'pc_active',\n",
    "                       'avg_seniority',\n",
    "                       'pc_known_age',\n",
    "                       'avg_age',\n",
    "                       'pc_gender_null',\n",
    "                       'pc_females',\n",
    "                       'pc_males',\n",
    "                       'density',\n",
    "                       'avg_centrality',\n",
    "                       'n_popular_members']\n",
    "    fig, ax = plt.subplots(6, 3, figsize=(14, 22))\n",
    "    ax = ax.ravel() \n",
    "    for i, key in enumerate(variables_histogram):\n",
    "        ax[i].hist(df[key], bins=20, color='#298ba1')\n",
    "        ax[i].set_title(key)\n",
    "    fig.savefig('01.png')"
   ]
  },
  {
   "cell_type": "code",
   "execution_count": null,
   "metadata": {
    "scrolled": false
   },
   "outputs": [],
   "source": [
    "plot_histograms(df_functional)"
   ]
  },
  {
   "cell_type": "code",
   "execution_count": null,
   "metadata": {},
   "outputs": [],
   "source": [
    "plot_histograms(df_active)"
   ]
  },
  {
   "cell_type": "code",
   "execution_count": null,
   "metadata": {},
   "outputs": [],
   "source": []
  }
 ],
 "metadata": {
  "kernelspec": {
   "display_name": "Python 3",
   "language": "python",
   "name": "python3"
  },
  "language_info": {
   "codemirror_mode": {
    "name": "ipython",
    "version": 3
   },
   "file_extension": ".py",
   "mimetype": "text/x-python",
   "name": "python",
   "nbconvert_exporter": "python",
   "pygments_lexer": "ipython3",
   "version": "3.6.9"
  }
 },
 "nbformat": 4,
 "nbformat_minor": 2
}
